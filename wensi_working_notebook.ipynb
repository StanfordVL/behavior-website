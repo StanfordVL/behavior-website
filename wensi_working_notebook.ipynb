{
 "cells": [
  {
   "attachments": {},
   "cell_type": "markdown",
   "metadata": {},
   "source": [
    "# Substances Mismatch"
   ]
  },
  {
   "cell_type": "code",
   "execution_count": 1,
   "metadata": {},
   "outputs": [],
   "source": [
    "from bddl.activity import Conditions\n",
    "from data import *\n",
    "import json\n",
    "import os\n",
    "\n",
    "os.makedirs(\"output\", exist_ok=True)"
   ]
  },
  {
   "cell_type": "code",
   "execution_count": 2,
   "metadata": {},
   "outputs": [],
   "source": [
    "# predicates indicating the presence of a substance\n",
    "SUBSTANCE_PREDICATE = {\"filled\", \"insource\", \"empty\", \"saturated\", \"contains\", \"covered\"}"
   ]
  },
  {
   "cell_type": "code",
   "execution_count": 3,
   "metadata": {},
   "outputs": [],
   "source": [
    "def get_substances_in_bddl(task_to_fn):\n",
    "    found_substances = set()\n",
    "    for task_name in task_to_fn:\n",
    "        task_file = task_to_fn[task_name] / \"problem0.bddl\"\n",
    "        assert task_file.exists(), f\"{task_name} file missing\"\n",
    "        with open(task_file, \"r\") as f:\n",
    "            predefined_problem = \"\".join(f.readlines())\n",
    "        dom = \"omnigibson\" if \"ObjectPropertyAnnotation\" in str(task_file) else \"igibson\"\n",
    "        conds = Conditions(task_name, \"potato\", dom, predefined_problem=predefined_problem)\n",
    "        obj_to_synset = {obj: synset for synset, objs in conds.parsed_objects.items() for obj in objs}\n",
    "        task_file = task_to_fn[task_name] / \"problem0.bddl\"\n",
    "        for cond in conds.parsed_initial_conditions + conds.parsed_goal_conditions:\n",
    "            if cond[0] in SUBSTANCE_PREDICATE:\n",
    "                # in some bddl \"covered\" definitions, the substance is the 2nd one (reversed)\n",
    "                try:\n",
    "                    if cond[0] == \"covered\" and (\"stain\" in cond[2] or \"dust\" in cond[2]):\n",
    "                        found_substances.add(obj_to_synset[cond[2]])\n",
    "                    else:\n",
    "                        found_substances.add(obj_to_synset[cond[1].split('?')[-1]])\n",
    "                except KeyError:\n",
    "                    print(f\"KeyError: {cond[1]} in task {task_name}, adding {cond[1].split('?')[-1]} to found_substances\")\n",
    "                    found_substances.add(cond[1].split('?')[-1])\n",
    "    return found_substances"
   ]
  },
  {
   "cell_type": "code",
   "execution_count": 4,
   "metadata": {},
   "outputs": [
    {
     "name": "stdout",
     "output_type": "stream",
     "text": [
      "KeyError: ice_tea.n.01 in task make_iced_tea, adding ice_tea.n.01 to found_substances\n"
     ]
    }
   ],
   "source": [
    "# get all the bddl definitions\n",
    "task_to_fn = get_tasks()\n",
    "found_substances = get_substances_in_bddl(task_to_fn)\n",
    "found_substances = sorted(found_substances)\n",
    "with open(\"output/substances_in_bddl.json\", \"w\") as f:\n",
    "    json.dump(found_substances, f, indent=4)"
   ]
  },
  {
   "cell_type": "code",
   "execution_count": 5,
   "metadata": {},
   "outputs": [],
   "source": [
    "# Get all the substances in the synset csv\n",
    "with open(rf\"{os.path.pardir}/ObjectPropertyAnnotation/object_property_annots/properties_to_synsets.json\", \"r\") as f:\n",
    "    json_file = json.load(f)\n",
    "synset_substances = sorted(set(json_file[\"liquid\"]) & set(json_file[\"substance\"]))"
   ]
  },
  {
   "cell_type": "code",
   "execution_count": 6,
   "metadata": {},
   "outputs": [],
   "source": [
    "# compare differences\n",
    "substances_synset_bddl_mismatch = {\n",
    "    \"substances_in_bddl_not_in_synset\": sorted(set(found_substances) - set(synset_substances)),\n",
    "    \"substances_in_synset_not_in_bddl\": sorted(set(synset_substances) - set(found_substances))\n",
    "}\n",
    "with open(\"output/substances_synset_bddl_mismatch.json\", \"w\") as f:\n",
    "    json.dump(substances_synset_bddl_mismatch, f, indent=4)"
   ]
  },
  {
   "cell_type": "markdown",
   "metadata": {},
   "source": [
    "# Synsets Mismatch"
   ]
  },
  {
   "cell_type": "code",
   "execution_count": 7,
   "metadata": {},
   "outputs": [],
   "source": [
    "# get current \"ground truth\" synsets\n",
    "G = get_all_synsets()\n",
    "legit_synsets = set(G.nodes)"
   ]
  },
  {
   "cell_type": "code",
   "execution_count": 11,
   "metadata": {},
   "outputs": [
    {
     "name": "stdout",
     "output_type": "stream",
     "text": [
      "make_eggnog\n",
      "make_gazpacho\n"
     ]
    }
   ],
   "source": [
    "# get all synsets in bddl & category mapping\n",
    "os.environ[\"GOOGLE_APPLICATION_CREDENTIALS\"] = rf\"C:\\Users\\capri28\\Downloads\\lucid-inquiry-205018-cd52e3c69473.json\"\n",
    "_, _, _, _, all_synsets_from_categorpy_mapping = get_category_synset_mapping([], [])\n",
    "category_mapping_to_illegal_synsets = all_synsets_from_categorpy_mapping - (all_synsets_from_categorpy_mapping & legit_synsets)\n",
    "task_to_synset, _, _, _, _, task_to_illegal_synsets, _ = get_task_synset_mapping(G, task_to_fn)\n",
    "all_illegal_synsets = sorted(set(x for s in task_to_illegal_synsets.values() for x in s) | category_mapping_to_illegal_synsets)\n",
    "with open(\"output/all_illegal_synsets.json\", \"w\") as f:\n",
    "    json.dump(all_illegal_synsets, f, indent=4)"
   ]
  },
  {
   "cell_type": "code",
   "execution_count": null,
   "metadata": {},
   "outputs": [],
   "source": [
    "all_synsets_in_bddl_and_category_mapping = sorted(all_synsets_from_categorpy_mapping | set(x for s in task_to_synset.values() for x in s))\n",
    "with open(\"output/all_synsets_in_bddl_and_category_mapping.json\", \"w\") as f:\n",
    "    json.dump(sorted(all_synsets_in_bddl_and_category_mapping), f, indent=4)"
   ]
  },
  {
   "cell_type": "code",
   "execution_count": null,
   "metadata": {},
   "outputs": [
    {
     "data": {
      "text/plain": [
       "1332"
      ]
     },
     "execution_count": 12,
     "metadata": {},
     "output_type": "execute_result"
    }
   ],
   "source": [
    "len(all_synsets_from_categorpy_mapping)"
   ]
  },
  {
   "cell_type": "code",
   "execution_count": null,
   "metadata": {},
   "outputs": [],
   "source": []
  }
 ],
 "metadata": {
  "kernelspec": {
   "display_name": "pipeline",
   "language": "python",
   "name": "python3"
  },
  "language_info": {
   "codemirror_mode": {
    "name": "ipython",
    "version": 3
   },
   "file_extension": ".py",
   "mimetype": "text/x-python",
   "name": "python",
   "nbconvert_exporter": "python",
   "pygments_lexer": "ipython3",
   "version": "3.10.0"
  },
  "orig_nbformat": 4
 },
 "nbformat": 4,
 "nbformat_minor": 2
}
